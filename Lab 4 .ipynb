{
 "cells": [
  {
   "cell_type": "markdown",
   "metadata": {},
   "source": [
    "## Laboratorio 4 - detección de malware\n",
    "María Inés Vásquez Figueroa - 18250 \\\n",
    "Paula Camila González Ortega - 18398"
   ]
  },
  {
   "cell_type": "code",
   "execution_count": 3,
   "metadata": {},
   "outputs": [],
   "source": [
    "import pandas as pd\n",
    "import numpy as np\n",
    "import matplotlib.pyplot as plt\n",
    "from sklearn.datasets import make_blobs\n",
    "from sklearn.cluster import KMeans\n",
    "from sklearn.preprocessing import StandardScaler\n",
    "from sklearn.metrics import silhouette_score\n",
    "from sklearn.cluster import DBSCAN\n",
    "\n",
    "plt.rcParams[\"figure.figsize\"] = (8, 5) # para poder desplegar todas la tablas y graficas"
   ]
  },
  {
   "cell_type": "markdown",
   "metadata": {},
   "source": [
    "### Exploración de data"
   ]
  },
  {
   "cell_type": "code",
   "execution_count": 47,
   "metadata": {},
   "outputs": [
    {
     "data": {
      "text/html": [
       "<div>\n",
       "<style scoped>\n",
       "    .dataframe tbody tr th:only-of-type {\n",
       "        vertical-align: middle;\n",
       "    }\n",
       "\n",
       "    .dataframe tbody tr th {\n",
       "        vertical-align: top;\n",
       "    }\n",
       "\n",
       "    .dataframe thead th {\n",
       "        text-align: right;\n",
       "    }\n",
       "</style>\n",
       "<table border=\"1\" class=\"dataframe\">\n",
       "  <thead>\n",
       "    <tr style=\"text-align: right;\">\n",
       "      <th></th>\n",
       "      <th>.text</th>\n",
       "      <th>.text_virtual_address</th>\n",
       "      <th>.text_virtual_size</th>\n",
       "      <th>.text_size_raw_data</th>\n",
       "      <th>.rdata</th>\n",
       "      <th>.rdata_virtual_address</th>\n",
       "      <th>.rdata_virtual_size</th>\n",
       "      <th>.rdata_size_raw_data</th>\n",
       "      <th>.data</th>\n",
       "      <th>.data_virtual_address</th>\n",
       "      <th>...</th>\n",
       "      <th>b'_aullshr'</th>\n",
       "      <th>b'_allmul'</th>\n",
       "      <th>b'_allshl'</th>\n",
       "      <th>b'_alldiv'</th>\n",
       "      <th>b'_chkstk'</th>\n",
       "      <th>b'_aulldiv'</th>\n",
       "      <th>b'RtlUnwind'</th>\n",
       "      <th>b'listen'</th>\n",
       "      <th>b'bind'</th>\n",
       "      <th>b'accept'</th>\n",
       "    </tr>\n",
       "  </thead>\n",
       "  <tbody>\n",
       "    <tr>\n",
       "      <th>0</th>\n",
       "      <td>1</td>\n",
       "      <td>4096</td>\n",
       "      <td>3382</td>\n",
       "      <td>3584</td>\n",
       "      <td>1</td>\n",
       "      <td>8192</td>\n",
       "      <td>1308</td>\n",
       "      <td>1536</td>\n",
       "      <td>1</td>\n",
       "      <td>12288</td>\n",
       "      <td>...</td>\n",
       "      <td>NaN</td>\n",
       "      <td>NaN</td>\n",
       "      <td>NaN</td>\n",
       "      <td>NaN</td>\n",
       "      <td>NaN</td>\n",
       "      <td>NaN</td>\n",
       "      <td>NaN</td>\n",
       "      <td>NaN</td>\n",
       "      <td>NaN</td>\n",
       "      <td>NaN</td>\n",
       "    </tr>\n",
       "    <tr>\n",
       "      <th>1</th>\n",
       "      <td>1</td>\n",
       "      <td>4096</td>\n",
       "      <td>3382</td>\n",
       "      <td>3584</td>\n",
       "      <td>1</td>\n",
       "      <td>8192</td>\n",
       "      <td>1308</td>\n",
       "      <td>1536</td>\n",
       "      <td>1</td>\n",
       "      <td>12288</td>\n",
       "      <td>...</td>\n",
       "      <td>NaN</td>\n",
       "      <td>NaN</td>\n",
       "      <td>NaN</td>\n",
       "      <td>NaN</td>\n",
       "      <td>NaN</td>\n",
       "      <td>NaN</td>\n",
       "      <td>NaN</td>\n",
       "      <td>NaN</td>\n",
       "      <td>NaN</td>\n",
       "      <td>NaN</td>\n",
       "    </tr>\n",
       "    <tr>\n",
       "      <th>2</th>\n",
       "      <td>1</td>\n",
       "      <td>4096</td>\n",
       "      <td>9690</td>\n",
       "      <td>9728</td>\n",
       "      <td>1</td>\n",
       "      <td>16384</td>\n",
       "      <td>2596</td>\n",
       "      <td>3072</td>\n",
       "      <td>1</td>\n",
       "      <td>20480</td>\n",
       "      <td>...</td>\n",
       "      <td>NaN</td>\n",
       "      <td>NaN</td>\n",
       "      <td>NaN</td>\n",
       "      <td>NaN</td>\n",
       "      <td>NaN</td>\n",
       "      <td>NaN</td>\n",
       "      <td>NaN</td>\n",
       "      <td>NaN</td>\n",
       "      <td>NaN</td>\n",
       "      <td>NaN</td>\n",
       "    </tr>\n",
       "    <tr>\n",
       "      <th>3</th>\n",
       "      <td>1</td>\n",
       "      <td>4096</td>\n",
       "      <td>9690</td>\n",
       "      <td>9728</td>\n",
       "      <td>1</td>\n",
       "      <td>16384</td>\n",
       "      <td>2596</td>\n",
       "      <td>3072</td>\n",
       "      <td>1</td>\n",
       "      <td>20480</td>\n",
       "      <td>...</td>\n",
       "      <td>NaN</td>\n",
       "      <td>NaN</td>\n",
       "      <td>NaN</td>\n",
       "      <td>NaN</td>\n",
       "      <td>NaN</td>\n",
       "      <td>NaN</td>\n",
       "      <td>NaN</td>\n",
       "      <td>NaN</td>\n",
       "      <td>NaN</td>\n",
       "      <td>NaN</td>\n",
       "    </tr>\n",
       "    <tr>\n",
       "      <th>4</th>\n",
       "      <td>1</td>\n",
       "      <td>4096</td>\n",
       "      <td>3702</td>\n",
       "      <td>4096</td>\n",
       "      <td>1</td>\n",
       "      <td>8192</td>\n",
       "      <td>1662</td>\n",
       "      <td>2048</td>\n",
       "      <td>1</td>\n",
       "      <td>12288</td>\n",
       "      <td>...</td>\n",
       "      <td>NaN</td>\n",
       "      <td>NaN</td>\n",
       "      <td>NaN</td>\n",
       "      <td>NaN</td>\n",
       "      <td>NaN</td>\n",
       "      <td>NaN</td>\n",
       "      <td>NaN</td>\n",
       "      <td>NaN</td>\n",
       "      <td>NaN</td>\n",
       "      <td>NaN</td>\n",
       "    </tr>\n",
       "  </tbody>\n",
       "</table>\n",
       "<p>5 rows × 378 columns</p>\n",
       "</div>"
      ],
      "text/plain": [
       "   .text  .text_virtual_address  .text_virtual_size  .text_size_raw_data  \\\n",
       "0      1                   4096                3382                 3584   \n",
       "1      1                   4096                3382                 3584   \n",
       "2      1                   4096                9690                 9728   \n",
       "3      1                   4096                9690                 9728   \n",
       "4      1                   4096                3702                 4096   \n",
       "\n",
       "   .rdata  .rdata_virtual_address  .rdata_virtual_size  .rdata_size_raw_data  \\\n",
       "0       1                    8192                 1308                  1536   \n",
       "1       1                    8192                 1308                  1536   \n",
       "2       1                   16384                 2596                  3072   \n",
       "3       1                   16384                 2596                  3072   \n",
       "4       1                    8192                 1662                  2048   \n",
       "\n",
       "   .data  .data_virtual_address  ...  b'_aullshr'  b'_allmul'  b'_allshl'  \\\n",
       "0      1                  12288  ...          NaN         NaN         NaN   \n",
       "1      1                  12288  ...          NaN         NaN         NaN   \n",
       "2      1                  20480  ...          NaN         NaN         NaN   \n",
       "3      1                  20480  ...          NaN         NaN         NaN   \n",
       "4      1                  12288  ...          NaN         NaN         NaN   \n",
       "\n",
       "   b'_alldiv'  b'_chkstk'  b'_aulldiv'  b'RtlUnwind'  b'listen'  b'bind'  \\\n",
       "0         NaN         NaN          NaN           NaN        NaN      NaN   \n",
       "1         NaN         NaN          NaN           NaN        NaN      NaN   \n",
       "2         NaN         NaN          NaN           NaN        NaN      NaN   \n",
       "3         NaN         NaN          NaN           NaN        NaN      NaN   \n",
       "4         NaN         NaN          NaN           NaN        NaN      NaN   \n",
       "\n",
       "   b'accept'  \n",
       "0        NaN  \n",
       "1        NaN  \n",
       "2        NaN  \n",
       "3        NaN  \n",
       "4        NaN  \n",
       "\n",
       "[5 rows x 378 columns]"
      ]
     },
     "execution_count": 47,
     "metadata": {},
     "output_type": "execute_result"
    }
   ],
   "source": [
    "# leer el dataset del malware \n",
    "df = pd.read_csv(\"dataset.csv\")\n",
    "df.head()"
   ]
  },
  {
   "cell_type": "code",
   "execution_count": 5,
   "metadata": {},
   "outputs": [
    {
     "name": "stdout",
     "output_type": "stream",
     "text": [
      "<class 'pandas.core.frame.DataFrame'>\n",
      "RangeIndex: 40 entries, 0 to 39\n",
      "Columns: 378 entries, .text to b'accept'\n",
      "dtypes: float64(356), int64(22)\n",
      "memory usage: 118.2 KB\n"
     ]
    }
   ],
   "source": [
    "# Informacion del dataset\n",
    "df.info()"
   ]
  },
  {
   "cell_type": "code",
   "execution_count": 6,
   "metadata": {},
   "outputs": [
    {
     "data": {
      "text/plain": [
       "4096      15\n",
       "9728       8\n",
       "3584       6\n",
       "10752      3\n",
       "547328     3\n",
       "572928     2\n",
       "424960     1\n",
       "436224     1\n",
       "436736     1\n",
       "Name: .text_size_raw_data, dtype: int64"
      ]
     },
     "execution_count": 6,
     "metadata": {},
     "output_type": "execute_result"
    }
   ],
   "source": [
    "# conteo de valores en columna \"text_size_raw_data\"\n",
    "df['.text_size_raw_data'].value_counts()  "
   ]
  },
  {
   "cell_type": "code",
   "execution_count": 7,
   "metadata": {},
   "outputs": [
    {
     "data": {
      "text/plain": [
       "8192      21\n",
       "16384     11\n",
       "552960     3\n",
       "442368     2\n",
       "577536     2\n",
       "430080     1\n",
       "Name: .rdata_virtual_address, dtype: int64"
      ]
     },
     "execution_count": 7,
     "metadata": {},
     "output_type": "execute_result"
    }
   ],
   "source": [
    "# conteo de valores en columna \"rdata_virtual_address\"\n",
    "df['.rdata_virtual_address'].value_counts()  "
   ]
  },
  {
   "cell_type": "code",
   "execution_count": 8,
   "metadata": {},
   "outputs": [
    {
     "data": {
      "text/plain": [
       "1.0    2\n",
       "Name: b'listen', dtype: int64"
      ]
     },
     "execution_count": 8,
     "metadata": {},
     "output_type": "execute_result"
    }
   ],
   "source": [
    "# conteo de valores en columna \"b'listen'\"\n",
    "df[\"b'listen'\"].value_counts()"
   ]
  },
  {
   "cell_type": "code",
   "execution_count": 9,
   "metadata": {},
   "outputs": [
    {
     "data": {
      "text/plain": [
       "1.0    5\n",
       "Name: b'_chkstk', dtype: int64"
      ]
     },
     "execution_count": 9,
     "metadata": {},
     "output_type": "execute_result"
    }
   ],
   "source": [
    "# conteo de valores en columna \"b'_chkstk'\" \n",
    "df[\"b'_chkstk'\"].value_counts()"
   ]
  },
  {
   "cell_type": "code",
   "execution_count": 10,
   "metadata": {},
   "outputs": [
    {
     "data": {
      "text/plain": [
       "35"
      ]
     },
     "execution_count": 10,
     "metadata": {},
     "output_type": "execute_result"
    }
   ],
   "source": [
    "# Sumar nulos\n",
    "df[\"b'_chkstk'\"].isna().sum()"
   ]
  },
  {
   "cell_type": "markdown",
   "metadata": {},
   "source": [
    "### Preparacion de data"
   ]
  },
  {
   "cell_type": "code",
   "execution_count": 48,
   "metadata": {},
   "outputs": [],
   "source": [
    "# df = df.dropna(axis=1, how=\"any\", thresh=None, subset=None, inplace=False)\n",
    "df.fillna(value = 0, inplace = True) # Todos los NaN se convierten a 0"
   ]
  },
  {
   "cell_type": "code",
   "execution_count": 49,
   "metadata": {},
   "outputs": [],
   "source": [
    "for c in df.columns.values:\n",
    "    #se recorre cada columan del dataframe\n",
    "    df[c] = df[c].astype(int)\n",
    "    if len(df[c].unique()) == 2:\n",
    "        # si hay 2 valores unicos en una columna se cambia a variable categorica\n",
    "        df[c] = df[c].astype('category')"
   ]
  },
  {
   "cell_type": "code",
   "execution_count": 42,
   "metadata": {},
   "outputs": [
    {
     "data": {
      "text/plain": [
       ".text                       int32\n",
       ".text_virtual_address       int32\n",
       ".text_virtual_size          int32\n",
       ".text_size_raw_data         int32\n",
       ".rdata                      int32\n",
       "                           ...   \n",
       "b'_aulldiv'              category\n",
       "b'RtlUnwind'             category\n",
       "b'listen'                category\n",
       "b'bind'                  category\n",
       "b'accept'                category\n",
       "Length: 378, dtype: object"
      ]
     },
     "execution_count": 42,
     "metadata": {},
     "output_type": "execute_result"
    }
   ],
   "source": [
    "df.dtypes"
   ]
  },
  {
   "cell_type": "code",
   "execution_count": 21,
   "metadata": {},
   "outputs": [
    {
     "data": {
      "text/plain": [
       "0    38\n",
       "1     2\n",
       "Name: b'bind', dtype: int64"
      ]
     },
     "execution_count": 21,
     "metadata": {},
     "output_type": "execute_result"
    }
   ],
   "source": [
    "df[\"b'bind'\"].value_counts()"
   ]
  },
  {
   "cell_type": "code",
   "execution_count": 50,
   "metadata": {},
   "outputs": [
    {
     "data": {
      "text/plain": [
       "array([[ 0.        ,  0.        , -0.50711796, ..., -0.22941573,\n",
       "        -0.22941573, -0.22941573],\n",
       "       [ 0.        ,  0.        , -0.50711796, ..., -0.22941573,\n",
       "        -0.22941573, -0.22941573],\n",
       "       [ 0.        ,  0.        , -0.47616602, ..., -0.22941573,\n",
       "        -0.22941573, -0.22941573],\n",
       "       [ 0.        ,  0.        , -0.47616602, ..., -0.22941573,\n",
       "        -0.22941573, -0.22941573],\n",
       "       [ 0.        ,  0.        , -0.50554779, ..., -0.22941573,\n",
       "        -0.22941573, -0.22941573]])"
      ]
     },
     "execution_count": 50,
     "metadata": {},
     "output_type": "execute_result"
    }
   ],
   "source": [
    "escalador = StandardScaler()\n",
    "datos_escalados = escalador.fit_transform(df)\n",
    "datos_escalados[:5]"
   ]
  },
  {
   "cell_type": "markdown",
   "metadata": {},
   "source": [
    "### Iteraciones de K-Means"
   ]
  },
  {
   "cell_type": "code",
   "execution_count": 51,
   "metadata": {},
   "outputs": [
    {
     "data": {
      "text/plain": [
       "[0.3885864050007561,\n",
       " 0.675307226014217,\n",
       " 0.802040914768342,\n",
       " 0.8697623615154221,\n",
       " 0.8516849547777475,\n",
       " 0.770675661504654,\n",
       " 0.8269255790787449,\n",
       " 0.8418227494802085,\n",
       " 0.8168228205176913,\n",
       " 0.7515295472024717,\n",
       " 0.8591896015701461,\n",
       " 0.9221297915732372,\n",
       " 0.873083459011427,\n",
       " 0.8480919478665812]"
      ]
     },
     "execution_count": 51,
     "metadata": {},
     "output_type": "execute_result"
    }
   ],
   "source": [
    "silh = []\n",
    "kmax = 15\n",
    "\n",
    "for k in range (2, kmax + 1):\n",
    "  kmeans = KMeans(\n",
    "        init = \"random\",\n",
    "        n_clusters = k,\n",
    "        n_init = 1,\n",
    "        max_iter = 200,\n",
    "        random_state = 123\n",
    "    ).fit(X)\n",
    "  etiquetas = kmeans.labels_\n",
    "  silh.append(silhouette_score(datos_escalados, etiquetas, metric = 'euclidean'))\n",
    "\n",
    "silh"
   ]
  },
  {
   "cell_type": "code",
   "execution_count": 52,
   "metadata": {},
   "outputs": [
    {
     "data": {
      "image/png": "[encoded data removed]",
      "text/plain": [
       "<Figure size 576x360 with 1 Axes>"
      ]
     },
     "metadata": {
      "needs_background": "light"
     },
     "output_type": "display_data"
    }
   ],
   "source": [
    "k = list(range(14))\n",
    "plt.scatter(k, silh)\n",
    "plt.title('Silhouette coefficient')\n",
    "plt.xticks(k, k)\n",
    "plt.show()\n",
    "# Grafica de Silhouette coefficient"
   ]
  },
  {
   "cell_type": "markdown",
   "metadata": {},
   "source": [
    "**¿Para qué número de clústeres se obtiene el coeficiente de sillhouete más alto?** \\\n",
    "Para 11 clústeres"
   ]
  },
  {
   "cell_type": "code",
   "execution_count": 53,
   "metadata": {},
   "outputs": [
    {
     "data": {
      "text/plain": [
       "KMeans(init='random', max_iter=200, n_clusters=15, n_init=1, random_state=123)"
      ]
     },
     "execution_count": 53,
     "metadata": {},
     "output_type": "execute_result"
    }
   ],
   "source": [
    "# se ajustan los datos\n",
    "kmeans.fit(datos_escalados)"
   ]
  },
  {
   "cell_type": "code",
   "execution_count": 54,
   "metadata": {},
   "outputs": [
    {
     "data": {
      "text/plain": [
       "KMeans(init='random', max_iter=200, n_clusters=15, n_init=1, random_state=123)"
      ]
     },
     "execution_count": 54,
     "metadata": {},
     "output_type": "execute_result"
    }
   ],
   "source": [
    "# El valor más bajo de SSE\n",
    "kmeans"
   ]
  },
  {
   "cell_type": "code",
   "execution_count": 55,
   "metadata": {},
   "outputs": [
    {
     "data": {
      "text/plain": [
       "8.546002622354863e-08"
      ]
     },
     "execution_count": 55,
     "metadata": {},
     "output_type": "execute_result"
    }
   ],
   "source": [
    "#SSE\n",
    "kmeans.inertia_"
   ]
  },
  {
   "cell_type": "code",
   "execution_count": 56,
   "metadata": {},
   "outputs": [
    {
     "data": {
      "text/plain": [
       "array([[ 0.        ,  0.        , -0.47781469, ..., -0.22941573,\n",
       "        -0.22941573, -0.22941573],\n",
       "       [ 0.        ,  0.        ,  1.61698595, ..., -0.22941573,\n",
       "        -0.22941573, -0.22941573],\n",
       "       [ 0.        ,  0.        ,  2.28669703, ...,  4.35889894,\n",
       "         4.35889894,  4.35889894],\n",
       "       ...,\n",
       "       [ 0.        ,  0.        , -0.50531226, ..., -0.22941573,\n",
       "        -0.22941573, -0.22941573],\n",
       "       [ 0.        ,  0.        , -0.50554779, ..., -0.22941573,\n",
       "        -0.22941573, -0.22941573],\n",
       "       [ 0.        ,  0.        , -0.50543003, ..., -0.22941573,\n",
       "        -0.22941573, -0.22941573]])"
      ]
     },
     "execution_count": 56,
     "metadata": {},
     "output_type": "execute_result"
    }
   ],
   "source": [
    "#Posiciones finales de los centroides\n",
    "kmeans.cluster_centers_"
   ]
  },
  {
   "cell_type": "code",
   "execution_count": 57,
   "metadata": {},
   "outputs": [
    {
     "data": {
      "text/plain": [
       "4"
      ]
     },
     "execution_count": 57,
     "metadata": {},
     "output_type": "execute_result"
    }
   ],
   "source": [
    "#Iteraciones para converger\n",
    "kmeans.n_iter_"
   ]
  },
  {
   "cell_type": "code",
   "execution_count": 58,
   "metadata": {},
   "outputs": [
    {
     "data": {
      "text/plain": [
       "array([ 7,  7,  8,  8, 14])"
      ]
     },
     "execution_count": 58,
     "metadata": {},
     "output_type": "execute_result"
    }
   ],
   "source": [
    "kmeans.labels_[:5]"
   ]
  },
  {
   "cell_type": "code",
   "execution_count": 59,
   "metadata": {},
   "outputs": [
    {
     "data": {
      "image/png": "[encoded data removed]",
      "text/plain": [
       "<Figure size 576x360 with 1 Axes>"
      ]
     },
     "metadata": {
      "needs_background": "light"
     },
     "output_type": "display_data"
    }
   ],
   "source": [
    "Nc = range(1, 20)\n",
    "kmeans = [KMeans(n_clusters=i) for i in Nc]\n",
    "score = [kmeans[i].fit(datos_escalados).score(datos_escalados) for i in range(len(kmeans))]\n",
    "plt.plot(Nc,score)\n",
    "plt.xlabel('Number of Clusters')\n",
    "plt.ylabel('Score')\n",
    "plt.title('Elbow Curve')\n",
    "plt.xticks(Nc, Nc)\n",
    "plt.show()\n",
    "# Grafica del codo para numero optimo de clusters"
   ]
  },
  {
   "cell_type": "code",
   "execution_count": 61,
   "metadata": {},
   "outputs": [
    {
     "data": {
      "text/plain": [
       "array([ 0,  0,  1,  1,  2, -1, -1,  3,  4,  5,  4,  6,  4,  1,  4,  1,  5,\n",
       "        7,  4,  5,  0,  1,  8, -1,  5,  1,  6,  5,  5,  6,  8,  5,  3,  4,\n",
       "        9,  2,  1,  9,  7,  9], dtype=int64)"
      ]
     },
     "execution_count": 61,
     "metadata": {},
     "output_type": "execute_result"
    }
   ],
   "source": [
    "clusters = DBSCAN(eps = 0.005, min_samples = 2).fit(datos_escalados)\n",
    "clusters.labels_"
   ]
  },
  {
   "cell_type": "markdown",
   "metadata": {},
   "source": [
    "**2. ¿Coincide el mayor de la pregunta 1 con el método del codo?**\\\n",
    "No es exactamente el mimso valor, pero si es cercano ya que según codo el número de clusters recomendado es aproximadamente 10... muy similar a 11\\\n",
    "\n",
    "**3. ¿Cuántas familias existen entre los ejemplares de malware proporcionados?**\\\n",
    "Según el output anterior se encontraron 10 familias de malware"
   ]
  },
  {
   "cell_type": "code",
   "execution_count": null,
   "metadata": {},
   "outputs": [],
   "source": []
  }
 ],
 "metadata": {
  "kernelspec": {
   "display_name": "Python 3",
   "language": "python",
   "name": "python3"
  },
  "language_info": {
   "codemirror_mode": {
    "name": "ipython",
    "version": 3
   },
   "file_extension": ".py",
   "mimetype": "text/x-python",
   "name": "python",
   "nbconvert_exporter": "python",
   "pygments_lexer": "ipython3",
   "version": "3.7.3"
  }
 },
 "nbformat": 4,
 "nbformat_minor": 4
}
